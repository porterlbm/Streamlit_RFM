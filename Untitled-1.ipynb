{
 "cells": [
  {
   "cell_type": "code",
   "execution_count": 1,
   "metadata": {},
   "outputs": [
    {
     "name": "stdout",
     "output_type": "stream",
     "text": [
      "       InvoiceNo StockCode                          Description  Quantity  \\\n",
      "228292    556918     21137             BLACK RECORD COVER FRAME       192   \n",
      "123891    546920     22720    SET OF 3 CAKE TINS PANTRY DESIGN         12   \n",
      "77515     542735     22467                    GUMBALL COAT RACK        36   \n",
      "454351    575519     23084                   RABBIT NIGHT LIGHT        48   \n",
      "507959    579188     22181  SNOWSTORM PHOTO FRAME FRIDGE MAGNET         4   \n",
      "13245     537429     22419                     LIPSTICK PEN RED         2   \n",
      "117175    546366     21374             MIRRORED WALL ART SKULLS         3   \n",
      "132541    547669     21364             PEACE SMALL WOOD LETTERS         1   \n",
      "132551    547669     22930    BAKING MOULD HEART MILK CHOCOLATE         1   \n",
      "181474    552469     22815              CARD PSYCHEDELIC APPLES        24   \n",
      "\n",
      "             InvoiceDate  UnitPrice  CustomerID         Country  \n",
      "228292  15-06-2011 13:37       3.39     12415.0       Australia  \n",
      "123891  18-03-2011 09:55       4.95     12471.0         Germany  \n",
      "77515   31-01-2011 15:36       2.10     12681.0          France  \n",
      "454351  10-11-2011 10:53       1.79     12682.0          France  \n",
      "507959  28-11-2011 15:34       0.85     12748.0  United Kingdom  \n",
      "13245   06-12-2010 15:54       0.42     12748.0  United Kingdom  \n",
      "117175  11-03-2011 11:37       3.75     12748.0  United Kingdom  \n",
      "132541  24-03-2011 13:37       6.75     12748.0  United Kingdom  \n",
      "132551  24-03-2011 13:37       2.55     12748.0  United Kingdom  \n",
      "181474  09-05-2011 15:34       0.42     12867.0  United Kingdom  \n"
     ]
    }
   ],
   "source": [
    "import pandas as pd\n",
    "data = pd.read_csv(\"data/OnlineRetail.csv\", encoding=\"latin-1\")\n",
    "\n",
    "    # Chia nhóm dữ liệu theo CustomerID và lấy 10% mẫu từ mỗi nhóm\n",
    "sample_data = data.groupby('CustomerID', group_keys=False).apply(lambda x: x.sample(frac=0.001))\n",
    "sample_data.to_csv(\"OnlineRetail_test.csv\", index=False)\n",
    "\n",
    "# In ra 10 dòng đầu tiên của dữ liệu mẫu\n",
    "print(sample_data.head(10))\n"
   ]
  }
 ],
 "metadata": {
  "kernelspec": {
   "display_name": "Python 3",
   "language": "python",
   "name": "python3"
  },
  "language_info": {
   "codemirror_mode": {
    "name": "ipython",
    "version": 3
   },
   "file_extension": ".py",
   "mimetype": "text/x-python",
   "name": "python",
   "nbconvert_exporter": "python",
   "pygments_lexer": "ipython3",
   "version": "3.9.13"
  }
 },
 "nbformat": 4,
 "nbformat_minor": 2
}
